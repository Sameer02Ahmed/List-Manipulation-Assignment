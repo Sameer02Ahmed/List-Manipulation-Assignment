{
  "nbformat": 4,
  "nbformat_minor": 0,
  "metadata": {
    "colab": {
      "provenance": []
    },
    "kernelspec": {
      "name": "python3",
      "display_name": "Python 3"
    },
    "language_info": {
      "name": "python"
    }
  },
  "cells": [
    {
      "cell_type": "markdown",
      "source": [
        "Python List Manipulation Assignment\n",
        "\n",
        "Instructions:\n",
        "\n",
        "1. This assignment is designed to test your understanding of Python list manipulation, including slicing and indexing.\n",
        "\n",
        "2. Ensure your code is well-commented and follows best practices.\n",
        "\n",
        "3. Name your file as \"list_assignment.py\".\n",
        "\n",
        "4. Submit your completed assignment by the specified deadline."
      ],
      "metadata": {
        "id": "Wv5XK5VU4lT3"
      }
    },
    {
      "cell_type": "markdown",
      "source": [
        "#Basic List Operations"
      ],
      "metadata": {
        "id": "eRk8CrBnyE3K"
      }
    },
    {
      "cell_type": "markdown",
      "source": [
        "Question 1: Basic List Operations\n",
        "\n",
        "a) Create a list named `fruits` containing the following items: \"apple\", \"banana\", \"orange\", \"grape\", \"kiwi\".\n",
        "\n",
        "b) Add \"pear\" to the end of the list.\n",
        "\n",
        "c) Insert \"mango\" at the second position in the list.\n",
        "\n",
        "d) Remove \"orange\" from the list."
      ],
      "metadata": {
        "id": "TWCMoo1R5k0n"
      }
    },
    {
      "cell_type": "markdown",
      "source": [
        "Answer of question 1:\n",
        "\n",
        "I will run parts (a to d) in different cell.\n",
        "\n",
        "a) Create a list named fruits containing the following items: \"apple\", \"banana\", \"orange\", \"grape\", \"kiwi\"."
      ],
      "metadata": {
        "id": "ykp1yo4n66Zy"
      }
    },
    {
      "cell_type": "code",
      "source": [
        "fruits=[\"apple\", \"banana\", \"orange\", \"grape\", \"kiwi\"]\n",
        "print (fruits)"
      ],
      "metadata": {
        "colab": {
          "base_uri": "https://localhost:8080/"
        },
        "id": "7xnwzdZnj_h1",
        "outputId": "a025f2bd-f632-4ff7-ab39-8c9661897197"
      },
      "execution_count": null,
      "outputs": [
        {
          "output_type": "stream",
          "name": "stdout",
          "text": [
            "['apple', 'banana', 'orange', 'grape', 'kiwi']\n"
          ]
        }
      ]
    },
    {
      "cell_type": "markdown",
      "source": [
        "b) Add \"pear\" to the end of the list."
      ],
      "metadata": {
        "id": "euSeqzY9APh9"
      }
    },
    {
      "cell_type": "code",
      "source": [
        "fruits=[\"apple\", \"banana\", \"orange\", \"grape\", \"kiwi\"]\n",
        "fruits.insert(5,\"pear\")\n",
        "print (fruits)"
      ],
      "metadata": {
        "colab": {
          "base_uri": "https://localhost:8080/"
        },
        "id": "u-l-sDKzkThk",
        "outputId": "de549a0d-84d4-416b-e371-c147a31ed169"
      },
      "execution_count": null,
      "outputs": [
        {
          "output_type": "stream",
          "name": "stdout",
          "text": [
            "['apple', 'banana', 'orange', 'grape', 'kiwi', 'pear']\n"
          ]
        }
      ]
    },
    {
      "cell_type": "markdown",
      "source": [
        "c) Insert \"mango\" at the second position in the list."
      ],
      "metadata": {
        "id": "NPI7GUnCC-YF"
      }
    },
    {
      "cell_type": "code",
      "source": [
        "fruits=[\"apple\", \"banana\", \"orange\", \"grape\", \"kiwi\"]\n",
        "fruits.insert(1,\"mango\")\n",
        "print (fruits)"
      ],
      "metadata": {
        "colab": {
          "base_uri": "https://localhost:8080/"
        },
        "id": "JiCpdazdk96w",
        "outputId": "a9fe2760-f553-4890-e490-103b47a345c4"
      },
      "execution_count": null,
      "outputs": [
        {
          "output_type": "stream",
          "name": "stdout",
          "text": [
            "['apple', 'mango', 'banana', 'orange', 'grape', 'kiwi']\n"
          ]
        }
      ]
    },
    {
      "cell_type": "markdown",
      "source": [
        "\n",
        "d) Remove \"orange\" from the list."
      ],
      "metadata": {
        "id": "eKsTxsTCD_VZ"
      }
    },
    {
      "cell_type": "code",
      "source": [
        "fruits=[\"apple\", \"banana\", \"orange\", \"grape\", \"kiwi\"]\n",
        "fruits.remove(\"orange\")\n",
        "print (fruits)"
      ],
      "metadata": {
        "colab": {
          "base_uri": "https://localhost:8080/"
        },
        "id": "veG1kD8AljTZ",
        "outputId": "07ddb10c-4c32-4926-bacf-c53727834b57"
      },
      "execution_count": null,
      "outputs": [
        {
          "output_type": "stream",
          "name": "stdout",
          "text": [
            "['apple', 'banana', 'grape', 'kiwi']\n"
          ]
        }
      ]
    },
    {
      "cell_type": "markdown",
      "source": [
        "I will run all parts (a to d) in one single cell."
      ],
      "metadata": {
        "id": "x3QGd-fJnPgN"
      }
    },
    {
      "cell_type": "code",
      "source": [
        "\n",
        "#part (a)\n",
        "fruits=[\"apple\", \"banana\", \"orange\", \"grape\", \"kiwi\"]\n",
        "#part(b)\n",
        "fruits.insert(5,\"pear\")\n",
        "#part(c)\n",
        "fruits.insert(1,\"mango\")\n",
        "#part(d)\n",
        "fruits.remove(\"orange\")\n",
        "print (fruits)"
      ],
      "metadata": {
        "colab": {
          "base_uri": "https://localhost:8080/"
        },
        "id": "PUdIRM68n-Vb",
        "outputId": "4d696a74-3f56-408e-807a-a86104c88e78"
      },
      "execution_count": null,
      "outputs": [
        {
          "output_type": "stream",
          "name": "stdout",
          "text": [
            "['apple', 'mango', 'banana', 'grape', 'kiwi', 'pear']\n"
          ]
        }
      ]
    },
    {
      "cell_type": "markdown",
      "source": [
        "#Slicing and Indexing"
      ],
      "metadata": {
        "id": "UjhmLn9Oy7PI"
      }
    },
    {
      "cell_type": "markdown",
      "source": [
        "Question 2: Slicing and Indexing\n",
        "\n",
        "a) Create a list named `numbers` containing the integers from 0 to 9.\n",
        "\n",
        "b) Print the element at index 3.\n",
        "\n",
        "c) Print a sublist containing the elements from index 2 to 6 (inclusive).\n",
        "\n",
        "d) Print the last three elements using negative indexing."
      ],
      "metadata": {
        "id": "jt7VkY15o8zV"
      }
    },
    {
      "cell_type": "markdown",
      "source": [
        "Answer of question 2:"
      ],
      "metadata": {
        "id": "nha3CA6ByQH1"
      }
    },
    {
      "cell_type": "code",
      "source": [
        "#a) Create a list named `numbers` containing the integers from 0 to 9.\n",
        "numbers=[0,1,2,3,4,5,6,7,8,9]\n",
        "print (numbers)"
      ],
      "metadata": {
        "colab": {
          "base_uri": "https://localhost:8080/"
        },
        "id": "jsM45mFhpnLn",
        "outputId": "bad5bebc-85f5-496f-bd7b-640ccbf8f4b9"
      },
      "execution_count": null,
      "outputs": [
        {
          "output_type": "stream",
          "name": "stdout",
          "text": [
            "[0, 1, 2, 3, 4, 5, 6, 7, 8, 9]\n"
          ]
        }
      ]
    },
    {
      "cell_type": "code",
      "source": [
        "#b) Print the element at index 3.\n",
        "numbers=[0,1,2,3,4,5,6,7,8,9]\n",
        "print(numbers[2])"
      ],
      "metadata": {
        "colab": {
          "base_uri": "https://localhost:8080/"
        },
        "id": "erGd_wj7qgpK",
        "outputId": "a2eaa746-90dd-452c-9618-c4b579af33fe"
      },
      "execution_count": null,
      "outputs": [
        {
          "output_type": "stream",
          "name": "stdout",
          "text": [
            "2\n"
          ]
        }
      ]
    },
    {
      "cell_type": "code",
      "source": [
        "#c) Print a sublist containing the elements from index 2 to 6 (inclusive).\n",
        "#we are also included index 6 in above code\n",
        "numbers=[0,1,2,3,4,5,6,7,8,9]\n",
        "print(numbers[1:6])"
      ],
      "metadata": {
        "colab": {
          "base_uri": "https://localhost:8080/"
        },
        "id": "eFktWrqFtT-a",
        "outputId": "cc74dd68-25d3-489f-a0af-8beef9006871"
      },
      "execution_count": null,
      "outputs": [
        {
          "output_type": "stream",
          "name": "stdout",
          "text": [
            "[1, 2, 3, 4, 5]\n"
          ]
        }
      ]
    },
    {
      "cell_type": "code",
      "source": [
        "#c-1) Print a sublist containing the elements from index 2 to 6 (inclusive).\n",
        "#we are also excluded index 6 in above code\n",
        "numbers=[0,1,2,3,4,5,6,7,8,9]\n",
        "print(numbers[1:5])"
      ],
      "metadata": {
        "colab": {
          "base_uri": "https://localhost:8080/"
        },
        "id": "85m08qSfPZmJ",
        "outputId": "fb741812-1e6c-45f5-8236-2a17586d1ef0"
      },
      "execution_count": null,
      "outputs": [
        {
          "output_type": "stream",
          "name": "stdout",
          "text": [
            "[1, 2, 3, 4]\n"
          ]
        }
      ]
    },
    {
      "cell_type": "code",
      "source": [
        "#d) Print the last three elements using negative indexing.\n",
        "numbers=[0,1,2,3,4,5,6,7,8,9]\n",
        "print(numbers[-3:-1])"
      ],
      "metadata": {
        "colab": {
          "base_uri": "https://localhost:8080/"
        },
        "id": "wrzC_-dQMtRh",
        "outputId": "cbbda5d3-cf41-49a4-a399-e7421fa2258e"
      },
      "execution_count": null,
      "outputs": [
        {
          "output_type": "stream",
          "name": "stdout",
          "text": [
            "[7, 8]\n"
          ]
        }
      ]
    },
    {
      "cell_type": "markdown",
      "source": [
        "I will run all parts (a to d) in one single cell."
      ],
      "metadata": {
        "id": "LcvUzWJz2dyE"
      }
    },
    {
      "cell_type": "code",
      "source": [
        "#a) Create a list named `numbers` containing the integers from 0 to 9.\n",
        "numbers=[0,1,2,3,4,5,6,7,8,9]\n",
        "print (numbers)\n",
        "#b) Print the element at index 3.\n",
        "numbers=[0,1,2,3,4,5,6,7,8,9]\n",
        "print(numbers[2])\n",
        "#c) Print a sublist containing the elements from index 2 to 6 (inclusive).\n",
        "#we are also included index 6 in above code\n",
        "numbers=[0,1,2,3,4,5,6,7,8,9]\n",
        "print(numbers[1:6])\n",
        "#c-1) Print a sublist containing the elements from index 2 to 6 (inclusive).\n",
        "#we are also excluded index 6 in above code\n",
        "numbers=[0,1,2,3,4,5,6,7,8,9]\n",
        "print(numbers[1:5])\n",
        "#d) Print the last three elements using negative indexing.\n",
        "numbers=[0,1,2,3,4,5,6,7,8,9]\n",
        "print(numbers[-3:-1])"
      ],
      "metadata": {
        "colab": {
          "base_uri": "https://localhost:8080/"
        },
        "id": "GxZvO3qa10nw",
        "outputId": "90ff69f7-e680-4f6f-ca7a-02b4fbd74e3b"
      },
      "execution_count": null,
      "outputs": [
        {
          "output_type": "stream",
          "name": "stdout",
          "text": [
            "[0, 1, 2, 3, 4, 5, 6, 7, 8, 9]\n",
            "2\n",
            "[1, 2, 3, 4, 5]\n",
            "[1, 2, 3, 4]\n",
            "[7, 8]\n"
          ]
        }
      ]
    },
    {
      "cell_type": "markdown",
      "source": [
        "#List Comprehension"
      ],
      "metadata": {
        "id": "gHFSU-ShzCQd"
      }
    },
    {
      "cell_type": "markdown",
      "source": [
        "Question 3: List Comprehension\n",
        "\n",
        "a) Create a list named `squares` using a list comprehension that contains the squares of numbers from 1 to 10.\n",
        "\n",
        "b) Create a new list named `even_squares` using a list comprehension that contains the squares of even numbers from the `squares` list."
      ],
      "metadata": {
        "id": "S-JPR3-2O4Ne"
      }
    },
    {
      "cell_type": "markdown",
      "source": [
        "Answer of question 3:"
      ],
      "metadata": {
        "id": "HOYgmRxtyZfI"
      }
    },
    {
      "cell_type": "code",
      "source": [
        "#a) Create a list named squares using a list comprehension that contains the squares of numbers from 1 to 10.\n",
        "numbers_without_squares=[1,2,3,4,5,6,7,8,9,10]\n",
        "squares=[x**2 for x in numbers_without_squares]"
      ],
      "metadata": {
        "id": "weO_MFI1PvH_"
      },
      "execution_count": null,
      "outputs": []
    },
    {
      "cell_type": "code",
      "source": [
        "squares"
      ],
      "metadata": {
        "colab": {
          "base_uri": "https://localhost:8080/"
        },
        "id": "BC5J4_-KSvvY",
        "outputId": "b1af903e-4980-4b06-f095-d9c4672ff06f"
      },
      "execution_count": null,
      "outputs": [
        {
          "output_type": "execute_result",
          "data": {
            "text/plain": [
              "[1, 4, 9, 16, 25, 36, 49, 64, 81, 100]"
            ]
          },
          "metadata": {},
          "execution_count": 30
        }
      ]
    },
    {
      "cell_type": "code",
      "source": [
        "#b) Create a new list named even_squares using a list comprehension that contains the squares of even numbers from the squares list.\n",
        "numbers_without_squares=[1,2,3,4,5,6,7,8,9,10]\n",
        "squares=[x**2 for x in numbers_without_squares]\n",
        "even_squares=[x for x in squares if x%2==0]"
      ],
      "metadata": {
        "id": "Rvt5yxLgYPGJ"
      },
      "execution_count": null,
      "outputs": []
    },
    {
      "cell_type": "code",
      "source": [
        "even_squares"
      ],
      "metadata": {
        "colab": {
          "base_uri": "https://localhost:8080/"
        },
        "id": "IdwWcz0hZTF6",
        "outputId": "17c456b7-e812-431b-c4a3-c0738223ac72"
      },
      "execution_count": null,
      "outputs": [
        {
          "output_type": "execute_result",
          "data": {
            "text/plain": [
              "[4, 16, 36, 64, 100]"
            ]
          },
          "metadata": {},
          "execution_count": 59
        }
      ]
    },
    {
      "cell_type": "markdown",
      "source": [
        "I will run all parts (a to b) in one single cell."
      ],
      "metadata": {
        "id": "oV-fgFzB2pLr"
      }
    },
    {
      "cell_type": "code",
      "source": [
        "#a) Create a list named squares using a list comprehension that contains the squares of numbers from 1 to 10.\n",
        "numbers_without_squares=[1,2,3,4,5,6,7,8,9,10]\n",
        "squares=[x**2 for x in numbers_without_squares]\n",
        "print(squares)\n",
        "#b) Create a new list named even_squares using a list comprehension that contains the squares of even numbers from the squares list.\n",
        "numbers_without_squares=[1,2,3,4,5,6,7,8,9,10]\n",
        "squares=[x**2 for x in numbers_without_squares]\n",
        "even_squares=[x for x in squares if x%2==0]\n",
        "print(even_squares)"
      ],
      "metadata": {
        "colab": {
          "base_uri": "https://localhost:8080/"
        },
        "id": "mf8bSo212vjO",
        "outputId": "e13c6e61-d31a-4246-bb8a-e16e6d7abb9e"
      },
      "execution_count": null,
      "outputs": [
        {
          "output_type": "stream",
          "name": "stdout",
          "text": [
            "[1, 4, 9, 16, 25, 36, 49, 64, 81, 100]\n",
            "[4, 16, 36, 64, 100]\n"
          ]
        }
      ]
    },
    {
      "cell_type": "markdown",
      "source": [
        "#List Manipulation"
      ],
      "metadata": {
        "id": "9Sz-UyEgzGp7"
      }
    },
    {
      "cell_type": "markdown",
      "source": [
        "Question 4: List Manipulation\n",
        "\n",
        "a) Create a list named `colors` containing the following items: \"red\", \"green\", \"blue\", \"yellow\", \"purple\".\n",
        "\n",
        "b) Swap the first and last elements of the list.\n",
        "\n",
        "c) Reverse the order of the list.\n",
        "\n",
        "d) Remove the second and third elements from the list."
      ],
      "metadata": {
        "id": "j3VTzLzJbxFy"
      }
    },
    {
      "cell_type": "markdown",
      "source": [
        "Answer of question 4:"
      ],
      "metadata": {
        "id": "Y6JxANeLylbz"
      }
    },
    {
      "cell_type": "code",
      "source": [
        "#a) Create a list named colors containing the following items: \"red\", \"green\", \"blue\", \"yellow\", \"purple\".\n",
        "colors=[\"red\", \"green\", \"blue\", \"yellow\", \"purple\"]\n",
        "print(colors)"
      ],
      "metadata": {
        "colab": {
          "base_uri": "https://localhost:8080/"
        },
        "id": "MZhW5CmEcLId",
        "outputId": "dc484fc9-bb86-42c8-e55b-832e99f03936"
      },
      "execution_count": null,
      "outputs": [
        {
          "output_type": "stream",
          "name": "stdout",
          "text": [
            "['red', 'green', 'blue', 'yellow', 'purple']\n"
          ]
        }
      ]
    },
    {
      "cell_type": "code",
      "source": [
        "#b) Swap the first and last elements of the list.\n",
        "def swap(colors, pos1, pos5):\n",
        "\n",
        "    colors[pos1], colors[pos5] = colors[pos5], colors[pos1]\n",
        "    return colors\n",
        "\n",
        "colors=[\"red\", \"green\", \"blue\", \"yellow\", \"purple\"]\n",
        "pos1, pos5  = 1, 5\n",
        "\n",
        "print(swap(colors, pos1-1, pos5-1))"
      ],
      "metadata": {
        "colab": {
          "base_uri": "https://localhost:8080/"
        },
        "id": "lEm3oK1SjR4y",
        "outputId": "1196fdbb-b2bf-40e9-e46f-5ab1e29cf534"
      },
      "execution_count": null,
      "outputs": [
        {
          "output_type": "stream",
          "name": "stdout",
          "text": [
            "['purple', 'green', 'blue', 'yellow', 'red']\n"
          ]
        }
      ]
    },
    {
      "cell_type": "code",
      "source": [
        "#c) Reverse the order of the list.\n",
        "colors=[\"red\", \"green\", \"blue\", \"yellow\", \"purple\"]\n",
        "colors.reverse()\n",
        "print(colors)"
      ],
      "metadata": {
        "colab": {
          "base_uri": "https://localhost:8080/"
        },
        "id": "_wDbXEQVk-tf",
        "outputId": "522db6dc-faee-4b77-9d21-ac21477d22a5"
      },
      "execution_count": null,
      "outputs": [
        {
          "output_type": "stream",
          "name": "stdout",
          "text": [
            "['purple', 'yellow', 'blue', 'green', 'red']\n"
          ]
        }
      ]
    },
    {
      "cell_type": "code",
      "source": [
        "#d) Remove the second and third elements from the list.\n",
        "colors=[\"red\", \"green\", \"blue\", \"yellow\", \"purple\"]\n",
        "del colors[1:3]\n",
        "colors"
      ],
      "metadata": {
        "id": "5kGY8-aGl--H",
        "colab": {
          "base_uri": "https://localhost:8080/"
        },
        "outputId": "7286e109-0e1a-4f4d-db9d-2897c7e61912"
      },
      "execution_count": null,
      "outputs": [
        {
          "output_type": "execute_result",
          "data": {
            "text/plain": [
              "['red', 'yellow', 'purple']"
            ]
          },
          "metadata": {},
          "execution_count": 81
        }
      ]
    },
    {
      "cell_type": "markdown",
      "source": [
        "I will run all parts (a to d) in one single cell."
      ],
      "metadata": {
        "id": "IuzMMdFY3Mp9"
      }
    },
    {
      "cell_type": "code",
      "source": [
        "#a) Create a list named colors containing the following items: \"red\", \"green\", \"blue\", \"yellow\", \"purple\".\n",
        "colors=[\"red\", \"green\", \"blue\", \"yellow\", \"purple\"]\n",
        "print(colors)\n",
        "#b) Swap the first and last elements of the list.\n",
        "def swap(colors, pos1, pos5):\n",
        "\n",
        "    colors[pos1], colors[pos5] = colors[pos5], colors[pos1]\n",
        "    return colors\n",
        "\n",
        "colors=[\"red\", \"green\", \"blue\", \"yellow\", \"purple\"]\n",
        "pos1, pos5  = 1, 5\n",
        "\n",
        "print(swap(colors, pos1-1, pos5-1))\n",
        "#c) Reverse the order of the list.\n",
        "colors=[\"red\", \"green\", \"blue\", \"yellow\", \"purple\"]\n",
        "colors.reverse()\n",
        "print(colors)\n",
        "#d) Remove the second and third elements from the list.\n",
        "colors=[\"red\", \"green\", \"blue\", \"yellow\", \"purple\"]\n",
        "del colors[1:3]\n",
        "colors"
      ],
      "metadata": {
        "colab": {
          "base_uri": "https://localhost:8080/"
        },
        "id": "m6zrQWP03OIw",
        "outputId": "3a67e071-3bf3-4458-f591-8657576553df"
      },
      "execution_count": null,
      "outputs": [
        {
          "output_type": "stream",
          "name": "stdout",
          "text": [
            "['red', 'green', 'blue', 'yellow', 'purple']\n",
            "['purple', 'green', 'blue', 'yellow', 'red']\n",
            "['purple', 'yellow', 'blue', 'green', 'red']\n"
          ]
        },
        {
          "output_type": "execute_result",
          "data": {
            "text/plain": [
              "['red', 'yellow', 'purple']"
            ]
          },
          "metadata": {},
          "execution_count": 88
        }
      ]
    },
    {
      "cell_type": "markdown",
      "source": [
        "#Advanced Slicing"
      ],
      "metadata": {
        "id": "jhEkZcLyzOkT"
      }
    },
    {
      "cell_type": "markdown",
      "source": [
        "Question 5: Advanced Slicing\n",
        "\n",
        "a) Create a list named `letters` containing the letters from 'a' to 'j'.\n",
        "\n",
        "b) Using slicing, create a new list `first_half` containing the first half of the `letters` list.\n",
        "\n",
        "c) Using slicing, create a new list `last_three` containing the last three elements of the `letters` list."
      ],
      "metadata": {
        "id": "FIogKL-T4RkX"
      }
    },
    {
      "cell_type": "markdown",
      "source": [
        "Answer of question 5:"
      ],
      "metadata": {
        "id": "DDkccoVtyqNs"
      }
    },
    {
      "cell_type": "code",
      "source": [
        "#a) Create a list named letters containing the letters from 'a' to 'j'.\n",
        "letters=[\"a\",\"b\",\"c\",\"d\",\"e\",\"f\",\"g\",\"h\",\"i\",\"j\"]\n",
        "print(letters)"
      ],
      "metadata": {
        "colab": {
          "base_uri": "https://localhost:8080/"
        },
        "id": "BIn1uwBPW-wM",
        "outputId": "fa72e8e8-2d4b-4511-83f3-1a3e52bb6177"
      },
      "execution_count": null,
      "outputs": [
        {
          "output_type": "stream",
          "name": "stdout",
          "text": [
            "['a', 'b', 'c', 'd', 'e', 'f', 'g', 'h', 'i', 'j']\n"
          ]
        }
      ]
    },
    {
      "cell_type": "code",
      "source": [
        "#b) Using slicing, create a new list first_half containing the first half of the letters list.\n",
        "first_half=letters[:len(letters)//2]\n",
        "print(first_half)"
      ],
      "metadata": {
        "colab": {
          "base_uri": "https://localhost:8080/"
        },
        "id": "WcIgmwsNYDeV",
        "outputId": "21b2d2c9-c313-46a0-8cf9-1219a09d6f21"
      },
      "execution_count": null,
      "outputs": [
        {
          "output_type": "stream",
          "name": "stdout",
          "text": [
            "['a', 'b', 'c', 'd', 'e']\n"
          ]
        }
      ]
    },
    {
      "cell_type": "code",
      "source": [
        "#c) Using slicing, create a new list last_three containing the last three elements of the letters list.\n",
        "last_three=letters[-3:]\n",
        "print(last_three)"
      ],
      "metadata": {
        "colab": {
          "base_uri": "https://localhost:8080/"
        },
        "id": "dfY3StqTZoQt",
        "outputId": "777a45d8-ac22-44e4-a0d5-fd913765ff8b"
      },
      "execution_count": null,
      "outputs": [
        {
          "output_type": "stream",
          "name": "stdout",
          "text": [
            "['h', 'i', 'j']\n"
          ]
        }
      ]
    },
    {
      "cell_type": "markdown",
      "source": [
        "I will run all parts (a to c) in one single cell."
      ],
      "metadata": {
        "id": "QztCLcJCaM2K"
      }
    },
    {
      "cell_type": "code",
      "source": [
        "#a) Create a list named letters containing the letters from 'a' to 'j'.\n",
        "letters=[\"a\",\"b\",\"c\",\"d\",\"e\",\"f\",\"g\",\"h\",\"i\",\"j\"]\n",
        "print(letters)\n",
        "#b) Using slicing, create a new list first_half containing the first half of the letters list.\n",
        "first_half=letters[:len(letters)//2]\n",
        "print(first_half)\n",
        "#c) Using slicing, create a new list last_three containing the last three elements of the letters list.\n",
        "last_three=letters[-3:]\n",
        "print(last_three)"
      ],
      "metadata": {
        "colab": {
          "base_uri": "https://localhost:8080/"
        },
        "id": "YQM_ErxKZ88y",
        "outputId": "762c022e-922c-40bd-af76-e61a96878810"
      },
      "execution_count": null,
      "outputs": [
        {
          "output_type": "stream",
          "name": "stdout",
          "text": [
            "['a', 'b', 'c', 'd', 'e', 'f', 'g', 'h', 'i', 'j']\n",
            "['a', 'b', 'c', 'd', 'e']\n",
            "['h', 'i', 'j']\n"
          ]
        }
      ]
    },
    {
      "cell_type": "markdown",
      "source": [
        "#Nested Lists"
      ],
      "metadata": {
        "id": "7CMnwzakzS70"
      }
    },
    {
      "cell_type": "markdown",
      "source": [
        "Question 6: Nested Lists\n",
        "\n",
        "a) Create a nested list named `matrix` with the following rows:\n",
        "   - [1, 2, 3]\n",
        "   - [4, 5, 6]\n",
        "   - [7, 8, 9]\n",
        "\n",
        "b) Print the element in the second row and third column.\n",
        "\n",
        "c) Use nested indexing to change the value at the second row and first column to 0."
      ],
      "metadata": {
        "id": "JNqFuGxNawMk"
      }
    },
    {
      "cell_type": "markdown",
      "source": [
        "Answer of question 6:"
      ],
      "metadata": {
        "id": "yJotW3Bkytlk"
      }
    },
    {
      "cell_type": "code",
      "source": [
        "#a) Create a nested list named matrix with the following rows:\n",
        "matrix=[[1, 2, 3],[4, 5, 6],[7, 8, 9]]\n",
        "print(matrix)"
      ],
      "metadata": {
        "colab": {
          "base_uri": "https://localhost:8080/"
        },
        "id": "ryWCMMnua743",
        "outputId": "ebc1bb77-eea7-4d63-a7e7-f467e80856c0"
      },
      "execution_count": null,
      "outputs": [
        {
          "output_type": "stream",
          "name": "stdout",
          "text": [
            "[[1, 2, 3], [4, 5, 6], [7, 8, 9]]\n"
          ]
        }
      ]
    },
    {
      "cell_type": "code",
      "source": [
        "#b) Print the element in the second row and third column.\n",
        "matrix=[[1, 2, 3],[4, 5, 6],[7, 8, 9]]\n",
        "print(matrix[1][2])\n",
        "#how 1 and 2 to print the element in the second row and third column.\n",
        "#index = ---0---- ,----1--- ,----2----\n",
        "#matrix=[[1, 2, 3],[4, 5, 6],[7, 8, 9]]\n",
        "#index= ---0,1,2--,--0,1,2--,--0,1,2--\n",
        "#matrix[1][2]\n",
        "#matrix[list2, index3]"
      ],
      "metadata": {
        "colab": {
          "base_uri": "https://localhost:8080/"
        },
        "id": "fK9wVIhRc40I",
        "outputId": "21746d3a-5b36-4f9d-8cbd-ed87724c64a4"
      },
      "execution_count": null,
      "outputs": [
        {
          "output_type": "stream",
          "name": "stdout",
          "text": [
            "6\n"
          ]
        }
      ]
    },
    {
      "cell_type": "code",
      "source": [
        "#c) Use nested indexing to change the value at the second row and first column to 0.\n",
        "matrix=[[1, 2, 3],[4, 5, 6],[7, 8, 9]]\n",
        "#how 1 and 2 to print the element in the second row and and first column to 0.\n",
        "#index = ---0---- ,----1--- ,----2----\n",
        "#matrix=[[1, 2, 3],[4, 5, 6],[7, 8, 9]]\n",
        "#index= ---0,1,2--,--0,1,2--,--0,1,2--\n",
        "#matrix[1][0]=0\n",
        "#matrix[list2, index1]\n",
        "matrix[1][0]=0\n",
        "print(matrix)"
      ],
      "metadata": {
        "colab": {
          "base_uri": "https://localhost:8080/"
        },
        "id": "ZjfhO3j7hvnx",
        "outputId": "edc33fba-e0b7-4b78-e5d0-53bb913191c0"
      },
      "execution_count": null,
      "outputs": [
        {
          "output_type": "stream",
          "name": "stdout",
          "text": [
            "[[1, 2, 3], [0, 5, 6], [7, 8, 9]]\n"
          ]
        }
      ]
    },
    {
      "cell_type": "markdown",
      "source": [
        "I will run all parts (a to c) in one single cell."
      ],
      "metadata": {
        "id": "Wfa4dTd5jExH"
      }
    },
    {
      "cell_type": "code",
      "source": [
        "#a) Create a nested list named matrix with the following rows:\n",
        "matrix=[[1, 2, 3],[4, 5, 6],[7, 8, 9]]\n",
        "print(matrix)\n",
        "\n",
        "#b) Print the element in the second row and third column.\n",
        "print(matrix[1][2])\n",
        "#how 1 and 2 to print the element in the second row and third column.\n",
        "#index = ---0---- ,----1--- ,----2----\n",
        "#matrix=[[1, 2, 3],[4, 5, 6],[7, 8, 9]]\n",
        "#index= ---0,1,2--,--0,1,2--,--0,1,2--\n",
        "#matrix[1][2]\n",
        "#matrix[list2, index3]\n",
        "\n",
        "#c) Use nested indexing to change the value at the second row and first column to 0.\n",
        "#how 1 and 2 to print the element in the second row and and first column to 0.\n",
        "#index = ---0---- ,----1--- ,----2----\n",
        "#matrix=[[1, 2, 3],[4, 5, 6],[7, 8, 9]]\n",
        "#index= ---0,1,2--,--0,1,2--,--0,1,2--\n",
        "#matrix[1][0]=0\n",
        "#matrix[list2, index1]\n",
        "matrix[1][0]=0\n",
        "print(matrix)"
      ],
      "metadata": {
        "colab": {
          "base_uri": "https://localhost:8080/"
        },
        "id": "ZKdpXfapjMo_",
        "outputId": "b3bb68f5-3944-441a-f1d0-1de76237e4bd"
      },
      "execution_count": null,
      "outputs": [
        {
          "output_type": "stream",
          "name": "stdout",
          "text": [
            "[[1, 2, 3], [4, 5, 6], [7, 8, 9]]\n",
            "6\n",
            "[[1, 2, 3], [0, 5, 6], [7, 8, 9]]\n"
          ]
        }
      ]
    }
  ]
}